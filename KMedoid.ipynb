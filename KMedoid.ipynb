{
 "cells": [
  {
   "cell_type": "code",
   "execution_count": 52,
   "metadata": {
    "collapsed": true
   },
   "outputs": [],
   "source": [
    "import numpy as np\n",
    "import matplotlib.pyplot as plt\n",
    "from copy import deepcopy\n",
    "from IPython import embed\n",
    "import time\n",
    "import pandas as pd\n"
   ]
  },
  {
   "cell_type": "code",
   "execution_count": 239,
   "metadata": {
    "collapsed": false
   },
   "outputs": [],
   "source": [
    "# /home/lupum/NPI_ANALISE/pag20171.csv\n",
    "dfTeste = pd.read_csv('/home/lupum/NPI_ANALISE/pag20171SEMVALOR.csv', delimiter=\",\", encoding=\"UTF-8\", low_memory=False,\n",
    "    quoting=3, na_filter=True, keep_default_na=False, error_bad_lines=False, na_values=[\"\"])\n"
   ]
  },
  {
   "cell_type": "code",
   "execution_count": 232,
   "metadata": {
    "collapsed": false
   },
   "outputs": [],
   "source": [
    "def _get_init_centers(n_clusters, n_samples):\n",
    "    '''return random points as initial centers'''\n",
    "    init_ids = []\n",
    "    while len(init_ids) < n_clusters:\n",
    "        _ = np.random.randint(0,n_samples)\n",
    "        if not _ in init_ids:\n",
    "            init_ids.append(_)\n",
    "    return init_ids\n",
    "\n",
    "def _get_distance(data1, data2):\n",
    "    '''example distance function'''\n",
    "#     return np.sqrt(np.sum((data1 - data2)**2))\n",
    "    xa = np.array(a)\n",
    "    xb = np.array(b)\n",
    "    intersection = np.intersect1d(xa, xb)\n",
    "    union = np.union1d(xa, xb)       \n",
    "    jaccard = len( intersection) \n",
    "    return 1- jaccard / len(union)\n",
    "\n",
    "def _get_cost(X, centers_id, dist_func):\n",
    "    '''return total cost and cost of each cluster'''\n",
    "    st = time.time()\n",
    "    dist_mat = np.zeros((len(X),len(centers_id)))\n",
    "    # compute distance matrix\n",
    "    for j in range(len(centers_id)):\n",
    "        center = X[centers_id[j],:]\n",
    "        for i in range(len(X)):\n",
    "            if i == centers_id[j]:\n",
    "                dist_mat[i,j] = 0.\n",
    "            else:\n",
    "                dist_mat[i,j] = dist_func(X[i,:], center)\n",
    "#     print ('cost ', -st+time.time())\n",
    "    mask = np.argmin(dist_mat,axis=1)\n",
    "    members = np.zeros(len(X))\n",
    "    costs = np.zeros(len(centers_id))\n",
    "    for i in range(len(centers_id)):\n",
    "        mem_id = np.where(mask==i)\n",
    "        members[mem_id] = i\n",
    "        costs[i] = np.sum(dist_mat[mem_id,i])\n",
    "    return members, costs, np.sum(costs), dist_mat\n",
    "\n",
    "def _kmedoids_run(X, n_clusters, dist_func, max_iter=1, tol=0.0001, verbose=True):\n",
    "# def _kmedoids_run(X, n_clusters, dist_func, max_iter=1000, tol=0.001, verbose=True):\n",
    "    '''run algorithm return centers, members, and etc.'''\n",
    "    # Get initial centers\n",
    "    n_samples, n_features = X.shape\n",
    "    init_ids = _get_init_centers(n_clusters,n_samples)\n",
    "    if verbose:\n",
    "        print ('Initial centers are ', init_ids)\n",
    "    centers = init_ids\n",
    "    members, costs, tot_cost, dist_mat = _get_cost(X, init_ids,dist_func)\n",
    "    cc,SWAPED = 0, True\n",
    "    while True:\n",
    "        SWAPED = False\n",
    "        for i in range(n_samples):\n",
    "            if not i in centers:\n",
    "                for j in range(len(centers)):\n",
    "                    centers_ = deepcopy(centers)\n",
    "                    centers_[j] = i\n",
    "                    members_, costs_, tot_cost_, dist_mat_ = _get_cost(X, centers_,dist_func)\n",
    "                    if tot_cost_-tot_cost < tol:\n",
    "                        members, costs, tot_cost, dist_mat = members_, costs_, tot_cost_, dist_mat_\n",
    "                        centers = centers_\n",
    "                        SWAPED = True\n",
    "                        if verbose:\n",
    "                            print ('Change centers to ', centers)\n",
    "        if cc > max_iter:\n",
    "            if verbose:\n",
    "                print ('End Searching by reaching maximum iteration', max_iter)\n",
    "            break\n",
    "        if not SWAPED:\n",
    "            if verbose:\n",
    "                print ('End Searching by no swaps')\n",
    "            break\n",
    "        cc += 1\n",
    "    return centers,members, costs, tot_cost, dist_mat\n",
    "\n",
    "class KMedoids(object):\n",
    "    '''\n",
    "    Main API of KMedoids Clustering\n",
    "    Parameters\n",
    "    --------\n",
    "        n_clusters: number of clusters\n",
    "        dist_func : distance function\n",
    "        max_iter: maximum number of iterations\n",
    "        tol: tolerance\n",
    "    Attributes\n",
    "    --------\n",
    "        labels_    :  cluster labels for each data item\n",
    "        centers_   :  cluster centers id\n",
    "        costs_     :  array of costs for each cluster\n",
    "        n_iter_    :  number of iterations for the best trail\n",
    "    Methods\n",
    "    -------\n",
    "        fit(X): fit the model\n",
    "            - X: 2-D numpy array, size = (n_sample, n_features)\n",
    "        predict(X): predict cluster id given a test dataset.\n",
    "    '''\n",
    "#    def __init__(self, n_clusters, dist_func=_get_distance, max_iter=10000, tol=0.0001):\n",
    "    def __init__(self, n_clusters, dist_func=_get_distance, max_iter=1, tol=0.0001):\n",
    "        self.n_clusters = n_clusters\n",
    "        self.dist_func = dist_func\n",
    "        self.max_iter = max_iter\n",
    "        self.tol = tol\n",
    "\n",
    "    def fit(self, X,plotit=True, verbose=True):\n",
    "        centers,members, costs,tot_cost, dist_mat = _kmedoids_run(\n",
    "                X,self.n_clusters, self.dist_func, max_iter=self.max_iter, tol=self.tol,verbose=verbose)\n",
    "        if plotit:\n",
    "            fig, ax = plt.subplots(1,1)\n",
    "            colors = ['b','g','r','c','m','y','k']\n",
    "            if self.n_clusters > len(colors):\n",
    "                raise ValueError('we need more colors')\n",
    "            \n",
    "            for i in range(len(centers)):\n",
    "                X_c = X[members==i,:]\n",
    "#                 print(X_c) # array X\n",
    "                ax.scatter(X_c[:,0],X_c[:,1],c=colors[i],alpha=0.5,s=30)\n",
    "                ax.scatter(X[centers[i],0],X[centers[i],1],c=colors[i],alpha=1., s=250,marker='*')\n",
    "        return\n",
    "\n",
    "    def predict(self,X):\n",
    "        raise NotImplementedError()\n",
    "\n",
    "    def details(self, X, verbose=True):\n",
    "        centers,members, costs,tot_cost, dist_mat = _kmedoids_run(\n",
    "        X,self.n_clusters, self.dist_func, max_iter=self.max_iter, tol=self.tol,verbose=verbose)\n",
    "        print('centers ',centers)\n",
    "        print('members ',members)\n",
    "        print('total costs ',tot_cost)\n",
    "        print('costs ',costs)\n",
    "        print('dist ',dist_mat)\n",
    "\n",
    "#     How to identify elements in clusters and interpret clusters\n",
    "#     def clustersElements(self, verbose=True):\n",
    "        \n"
   ]
  },
  {
   "cell_type": "code",
   "execution_count": 237,
   "metadata": {
    "collapsed": false
   },
   "outputs": [
    {
     "data": {
      "image/png": "[encoded data removed]",
      "text/plain": [
       "<matplotlib.figure.Figure at 0x7fdd13be0c88>"
      ]
     },
     "metadata": {},
     "output_type": "display_data"
    },
    {
     "name": "stdout",
     "output_type": "stream",
     "text": [
      "centers  [3, 4, 6]\n",
      "members  [ 1.  0.  2.  0.  1.  0.  2.  1.]\n",
      "total costs  2.66666666667\n",
      "costs  [ 1.08333333  1.08333333  0.5       ]\n",
      "dist  [[ 0.75        0.33333333  1.        ]\n",
      " [ 0.75        1.          1.        ]\n",
      " [ 0.75        0.75        0.5       ]\n",
      " [ 0.          0.66666667  1.        ]\n",
      " [ 0.66666667  0.          1.        ]\n",
      " [ 0.33333333  0.75        0.8       ]\n",
      " [ 1.          1.          0.        ]\n",
      " [ 1.          0.75        0.8       ]]\n"
     ]
    }
   ],
   "source": [
    "#from k_medoids import KMedoids\n",
    "import numpy as np\n",
    "import matplotlib.pyplot as plt\n",
    "\n",
    "def example_distance_func2(a,b):\n",
    "        xa = np.array(a)\n",
    "        xb = np.array(b)\n",
    "        intersection = np.intersect1d(xa, xb)\n",
    "        union = np.union1d(xa, xb)       \n",
    "        jaccard = len( intersection) / len(union)\n",
    "        return 1-jaccard\n",
    "\n",
    "def example_distance_func(data1, data2):\n",
    "    '''example distance function'''\n",
    "    return np.sqrt(np.sum((data1 - data2)**2))\n",
    "\n",
    "if __name__ == '__main__':\n",
    "#     X = np.random.normal(0,3,(10,2))\n",
    "#     X = np.random.normal(size=(20, 3))\n",
    "#     X = np.array([\n",
    "#         [56000, 56202, 275068, 3, 33, 15, 122, 2116, 9296295000160,0.166667],\n",
    "#         [56000,56202,275068,3,33,15,122, 2116,9296295000160,0.166667],\n",
    "#         [56000,56202,275068,3,33,15,122, 2116,11092210709,0.166667],\n",
    "#         [56000,56202,275068,3,33,15,122, 2116,25863584734,0.333333],\n",
    "#         [56000,56202,275068,3,33,15,122, 2116,25863584734,0.333333],\n",
    "#         [56000,\t56202,\t275068,\t3,\t33,\t15,\t122,\t2116,\t46982558720,\t0.333333],\n",
    "#         [56000,\t56202,\t275068,\t3,\t33,\t15,\t122,\t2116,\t60145269787,\t0.333333],\n",
    "#         [56000,\t56202,\t275068,\t3,\t33,\t15,\t122,\t2116,\t65147235434,\t0.333333],\n",
    "#         [56000,\t56202,\t275068,\t3,\t33,\t15,\t453,\t2116,\t352294000200,\t0.166667],\n",
    "#         [56000,\t56202,\t275068,\t3,\t33,\t15,\t453,\t2116,\t352294000200,\t0.166667]\n",
    "\n",
    "#     ])\n",
    "\n",
    "#     print(X[0], X[3], example_distance_func2(X[0], X[3]))\n",
    "    n = 624737 \n",
    "#     dftoa =dfTeste.iloc[:,1:].values\n",
    "# teste\n",
    "    X = np.array([\n",
    "       [ '23', '-50',  '63'],\n",
    "       [ '24', '-53',  '63'],\n",
    "       [ '25', '-7',  '23'],\n",
    "       [ '23', '-53',  '23'],\n",
    "       [ '23', '-50',  '23'],\n",
    "       [ '23', '-53',  '53'],\n",
    "       [ '25', '-7',  '53'],\n",
    "       [ '24', '-50',  '53']        \n",
    "    ])\n",
    "\n",
    "    model = KMedoids(n_clusters=3, dist_func=example_distance_func2)\n",
    "    model.fit(X, plotit=True, verbose=False)\n",
    "\n",
    "#     model.fit(dfTeste, plotit=True, verbose=False)\n",
    "    plt.show()\n",
    "    model.details(X, verbose=False)\n"
   ]
  },
  {
   "cell_type": "code",
   "execution_count": 241,
   "metadata": {
    "collapsed": false
   },
   "outputs": [
    {
     "data": {
      "text/html": [
       "<div>\n",
       "<table border=\"1\" class=\"dataframe\">\n",
       "  <thead>\n",
       "    <tr style=\"text-align: right;\">\n",
       "      <th></th>\n",
       "      <th>Código Órgão Superior</th>\n",
       "      <th>Código Órgão</th>\n",
       "      <th>Código Unidade Gestora</th>\n",
       "      <th>Código Grupo Despesa</th>\n",
       "      <th>Código Elemento Despesa</th>\n",
       "      <th>Código Função</th>\n",
       "      <th>Código Subfunção</th>\n",
       "      <th>Código Programa</th>\n",
       "      <th>Código Favorecido</th>\n",
       "      <th>valor_categorizado</th>\n",
       "    </tr>\n",
       "  </thead>\n",
       "  <tbody>\n",
       "    <tr>\n",
       "      <th>0</th>\n",
       "      <td>56000</td>\n",
       "      <td>56202</td>\n",
       "      <td>275068</td>\n",
       "      <td>3</td>\n",
       "      <td>33</td>\n",
       "      <td>15</td>\n",
       "      <td>122</td>\n",
       "      <td>2116</td>\n",
       "      <td>9296295000160</td>\n",
       "      <td>0.166667</td>\n",
       "    </tr>\n",
       "    <tr>\n",
       "      <th>1</th>\n",
       "      <td>56000</td>\n",
       "      <td>56202</td>\n",
       "      <td>275068</td>\n",
       "      <td>3</td>\n",
       "      <td>33</td>\n",
       "      <td>15</td>\n",
       "      <td>122</td>\n",
       "      <td>2116</td>\n",
       "      <td>9296295000160</td>\n",
       "      <td>0.166667</td>\n",
       "    </tr>\n",
       "    <tr>\n",
       "      <th>2</th>\n",
       "      <td>56000</td>\n",
       "      <td>56202</td>\n",
       "      <td>275068</td>\n",
       "      <td>3</td>\n",
       "      <td>33</td>\n",
       "      <td>15</td>\n",
       "      <td>122</td>\n",
       "      <td>2116</td>\n",
       "      <td>11092210709</td>\n",
       "      <td>0.166667</td>\n",
       "    </tr>\n",
       "  </tbody>\n",
       "</table>\n",
       "</div>"
      ],
      "text/plain": [
       "   Código Órgão Superior  Código Órgão  Código Unidade Gestora  \\\n",
       "0                  56000         56202                  275068   \n",
       "1                  56000         56202                  275068   \n",
       "2                  56000         56202                  275068   \n",
       "\n",
       "   Código Grupo Despesa  Código Elemento Despesa  Código Função  \\\n",
       "0                     3                       33             15   \n",
       "1                     3                       33             15   \n",
       "2                     3                       33             15   \n",
       "\n",
       "   Código Subfunção  Código Programa  Código Favorecido  valor_categorizado  \n",
       "0               122             2116      9296295000160            0.166667  \n",
       "1               122             2116      9296295000160            0.166667  \n",
       "2               122             2116        11092210709            0.166667  "
      ]
     },
     "execution_count": 241,
     "metadata": {},
     "output_type": "execute_result"
    }
   ],
   "source": [
    "# Total cost: somatório dos custos dos cluster\n",
    "# Costs: custo de cada cluster\n",
    "# Centers elementos centróids ex: [3,2] elemento na posição 4, 3 são centróids.\n",
    "\n",
    "# Dist: matriz de distância : 0 significa que é o próprio centroid comparado com ele mesmo,\n",
    "#       1 significa que são totalmente discimilares [1,2,3] [4,5,6] = 0 de similaridade e 1 de distância. \n",
    "dfTeste.head(3)"
   ]
  },
  {
   "cell_type": "code",
   "execution_count": 242,
   "metadata": {
    "collapsed": false
   },
   "outputs": [
    {
     "data": {
      "text/plain": [
       "Index(['Código Órgão Superior', 'Código Órgão', 'Código Unidade Gestora',\n",
       "       'Código Grupo Despesa', 'Código Elemento Despesa', 'Código Função',\n",
       "       'Código Subfunção', 'Código Programa', 'Código Favorecido',\n",
       "       'valor_categorizado'],\n",
       "      dtype='object')"
      ]
     },
     "execution_count": 242,
     "metadata": {},
     "output_type": "execute_result"
    }
   ],
   "source": [
    "dfTeste.columns"
   ]
  },
  {
   "cell_type": "code",
   "execution_count": 243,
   "metadata": {
    "collapsed": false
   },
   "outputs": [
    {
     "data": {
      "text/plain": [
       "Código Órgão Superior        int64\n",
       "Código Órgão                 int64\n",
       "Código Unidade Gestora       int64\n",
       "Código Grupo Despesa         int64\n",
       "Código Elemento Despesa      int64\n",
       "Código Função                int64\n",
       "Código Subfunção             int64\n",
       "Código Programa              int64\n",
       "Código Favorecido            int64\n",
       "valor_categorizado         float64\n",
       "dtype: object"
      ]
     },
     "execution_count": 243,
     "metadata": {},
     "output_type": "execute_result"
    }
   ],
   "source": [
    "dfTeste.dtypes"
   ]
  },
  {
   "cell_type": "code",
   "execution_count": 244,
   "metadata": {
    "collapsed": false
   },
   "outputs": [
    {
     "data": {
      "text/plain": [
       "(737, 10)"
      ]
     },
     "execution_count": 244,
     "metadata": {},
     "output_type": "execute_result"
    }
   ],
   "source": [
    "dfTeste.shape"
   ]
  },
  {
   "cell_type": "code",
   "execution_count": null,
   "metadata": {
    "collapsed": true
   },
   "outputs": [],
   "source": []
  },
  {
   "cell_type": "code",
   "execution_count": null,
   "metadata": {
    "collapsed": true
   },
   "outputs": [],
   "source": []
  }
 ],
 "metadata": {
  "kernelspec": {
   "display_name": "Python 3",
   "language": "python",
   "name": "python3"
  },
  "language_info": {
   "codemirror_mode": {
    "name": "ipython",
    "version": 3
   },
   "file_extension": ".py",
   "mimetype": "text/x-python",
   "name": "python",
   "nbconvert_exporter": "python",
   "pygments_lexer": "ipython3",
   "version": "3.5.2"
  }
 },
 "nbformat": 4,
 "nbformat_minor": 2
}
